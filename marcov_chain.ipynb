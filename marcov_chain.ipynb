{
 "cells": [
  {
   "cell_type": "code",
   "execution_count": 147,
   "id": "c39dfc08",
   "metadata": {},
   "outputs": [],
   "source": [
    "import numpy as np\n",
    "import pandas as pd\n",
    "import random\n",
    "import matplotlib.pyplot as plt\n",
    "import markovchain"
   ]
  },
  {
   "cell_type": "code",
   "execution_count": 148,
   "id": "96173d1a",
   "metadata": {},
   "outputs": [],
   "source": [
    "mc_example = {'NYC': [.25,0,.75,1],\n",
    "              'Paris': [.25,.25,0,0],\n",
    "              'Cairo': [.25,.25,.25,0],\n",
    "              'Seoul': [.25,.5,0,0]}\n",
    "\n",
    "mc = pd.DataFrame(data = mc_example, index = ['NYC', 'Paris', 'Cairo', 'Seoul'])"
   ]
  },
  {
   "cell_type": "code",
   "execution_count": 149,
   "id": "d3975657",
   "metadata": {},
   "outputs": [
    {
     "data": {
      "text/html": [
       "<div>\n",
       "<style scoped>\n",
       "    .dataframe tbody tr th:only-of-type {\n",
       "        vertical-align: middle;\n",
       "    }\n",
       "\n",
       "    .dataframe tbody tr th {\n",
       "        vertical-align: top;\n",
       "    }\n",
       "\n",
       "    .dataframe thead th {\n",
       "        text-align: right;\n",
       "    }\n",
       "</style>\n",
       "<table border=\"1\" class=\"dataframe\">\n",
       "  <thead>\n",
       "    <tr style=\"text-align: right;\">\n",
       "      <th></th>\n",
       "      <th>NYC</th>\n",
       "      <th>Paris</th>\n",
       "      <th>Cairo</th>\n",
       "      <th>Seoul</th>\n",
       "    </tr>\n",
       "  </thead>\n",
       "  <tbody>\n",
       "    <tr>\n",
       "      <th>NYC</th>\n",
       "      <td>0.25</td>\n",
       "      <td>0.25</td>\n",
       "      <td>0.25</td>\n",
       "      <td>0.25</td>\n",
       "    </tr>\n",
       "    <tr>\n",
       "      <th>Paris</th>\n",
       "      <td>0.00</td>\n",
       "      <td>0.25</td>\n",
       "      <td>0.25</td>\n",
       "      <td>0.50</td>\n",
       "    </tr>\n",
       "    <tr>\n",
       "      <th>Cairo</th>\n",
       "      <td>0.75</td>\n",
       "      <td>0.00</td>\n",
       "      <td>0.25</td>\n",
       "      <td>0.00</td>\n",
       "    </tr>\n",
       "    <tr>\n",
       "      <th>Seoul</th>\n",
       "      <td>1.00</td>\n",
       "      <td>0.00</td>\n",
       "      <td>0.00</td>\n",
       "      <td>0.00</td>\n",
       "    </tr>\n",
       "  </tbody>\n",
       "</table>\n",
       "</div>"
      ],
      "text/plain": [
       "        NYC  Paris  Cairo  Seoul\n",
       "NYC    0.25   0.25   0.25   0.25\n",
       "Paris  0.00   0.25   0.25   0.50\n",
       "Cairo  0.75   0.00   0.25   0.00\n",
       "Seoul  1.00   0.00   0.00   0.00"
      ]
     },
     "execution_count": 149,
     "metadata": {},
     "output_type": "execute_result"
    }
   ],
   "source": [
    "mc"
   ]
  },
  {
   "cell_type": "code",
   "execution_count": 150,
   "id": "1a73a1f5",
   "metadata": {},
   "outputs": [],
   "source": [
    "travel_sim = []\n",
    "travel_sim.append(mc.iloc[0].index[0])"
   ]
  },
  {
   "cell_type": "code",
   "execution_count": 151,
   "id": "e65fcc8e",
   "metadata": {},
   "outputs": [
    {
     "data": {
      "text/plain": [
       "['NYC']"
      ]
     },
     "execution_count": 151,
     "metadata": {},
     "output_type": "execute_result"
    }
   ],
   "source": [
    "travel_sim"
   ]
  },
  {
   "cell_type": "code",
   "execution_count": 152,
   "id": "c0ed8a44",
   "metadata": {},
   "outputs": [
    {
     "name": "stdout",
     "output_type": "stream",
     "text": [
      "Index(['NYC', 'Paris', 'Cairo', 'Seoul'], dtype='object')\n"
     ]
    }
   ],
   "source": [
    "print(mc.iloc[0].index)"
   ]
  },
  {
   "cell_type": "code",
   "execution_count": 153,
   "id": "30696e26",
   "metadata": {},
   "outputs": [
    {
     "name": "stdout",
     "output_type": "stream",
     "text": [
      "NYC      0.25\n",
      "Paris    0.25\n",
      "Cairo    0.25\n",
      "Seoul    0.25\n",
      "Name: NYC, dtype: float64\n"
     ]
    }
   ],
   "source": [
    "print(mc.iloc[0])"
   ]
  },
  {
   "cell_type": "code",
   "execution_count": 154,
   "id": "49d225c9",
   "metadata": {},
   "outputs": [
    {
     "data": {
      "text/plain": [
       "['NYC', 'Paris']"
      ]
     },
     "execution_count": 154,
     "metadata": {},
     "output_type": "execute_result"
    }
   ],
   "source": [
    "next_city = np.random.choice(mc.iloc[0].index ,p=mc.iloc[0])\n",
    "travel_sim.append(next_city)\n",
    "travel_sim"
   ]
  },
  {
   "cell_type": "code",
   "execution_count": 166,
   "id": "6946b14c",
   "metadata": {
    "scrolled": true
   },
   "outputs": [],
   "source": [
    "testcity = 'Seoul'\n",
    "mc.iloc[mc.index.get_loc(testcity)]\n",
    "#mc.index.get_loc(testcity)\n",
    "next_city = ('Cairo')"
   ]
  },
  {
   "cell_type": "code",
   "execution_count": 179,
   "id": "6b936552",
   "metadata": {
    "scrolled": true
   },
   "outputs": [
    {
     "name": "stdout",
     "output_type": "stream",
     "text": [
      "['NYC', 'Seoul', 'NYC', 'Cairo', 'Cairo', 'NYC', 'Seoul', 'NYC', 'Seoul', 'NYC', 'Seoul', 'NYC', 'Paris', 'Paris', 'Seoul', 'NYC', 'Paris', 'Seoul', 'NYC', 'Paris', 'Seoul', 'NYC', 'NYC', 'Paris', 'Seoul']\n"
     ]
    }
   ],
   "source": [
    "travel_sim = []\n",
    "while len(travel_sim) < 25:\n",
    "    next_city = np.random.choice(mc.iloc[mc.index.get_loc(next_city)].index, p=mc.iloc[mc.index.get_loc(next_city)])\n",
    "    travel_sim.append(next_city)\n",
    "print(travel_sim)"
   ]
  },
  {
   "cell_type": "code",
   "execution_count": 183,
   "id": "7bbe3020",
   "metadata": {},
   "outputs": [
    {
     "data": {
      "text/plain": [
       "array([[0.25, 0.25, 0.25, 0.25],\n",
       "       [0.  , 0.25, 0.25, 0.5 ],\n",
       "       [0.75, 0.  , 0.25, 0.  ],\n",
       "       [1.  , 0.  , 0.  , 0.  ]])"
      ]
     },
     "execution_count": 183,
     "metadata": {},
     "output_type": "execute_result"
    }
   ],
   "source": [
    "marcov_chain_matrix = mc.to_numpy()\n",
    "marcov_chain_matrix"
   ]
  },
  {
   "cell_type": "code",
   "execution_count": 181,
   "id": "66fe10ea",
   "metadata": {},
   "outputs": [],
   "source": [
    "# the following functions multiples marcov_chain_matrix by itself \n",
    "def matrix_power(matrix, power):\n",
    "  if power == 0:\n",
    "    return np.identity(len(matrix))\n",
    "  elif power == 1:\n",
    "    return matrix\n",
    "  else:\n",
    "    return np.dot(matrix, matrix_power(matrix, power-1))"
   ]
  },
  {
   "cell_type": "code",
   "execution_count": 184,
   "id": "2f813e0f",
   "metadata": {},
   "outputs": [
    {
     "data": {
      "text/plain": [
       "array([[1., 0., 0., 0.],\n",
       "       [0., 1., 0., 0.],\n",
       "       [0., 0., 1., 0.],\n",
       "       [0., 0., 0., 1.]])"
      ]
     },
     "execution_count": 184,
     "metadata": {},
     "output_type": "execute_result"
    }
   ],
   "source": [
    "# this means if you take 0 steps you will end up where you are!!!\n",
    "matrix_power(marcov_chain_matrix, 0)"
   ]
  },
  {
   "cell_type": "code",
   "execution_count": 188,
   "id": "2ee2635e",
   "metadata": {},
   "outputs": [
    {
     "data": {
      "text/plain": [
       "array([[0.45569897, 0.15189743, 0.20253086, 0.18987274],\n",
       "       [0.45570278, 0.15189743, 0.20252991, 0.18986988],\n",
       "       [0.45569229, 0.15190029, 0.20253277, 0.18987465],\n",
       "       [0.45568848, 0.15190125, 0.20253372, 0.18987656]])"
      ]
     },
     "execution_count": 188,
     "metadata": {},
     "output_type": "execute_result"
    }
   ],
   "source": [
    "# if we set power to a large enough number\n",
    "matrix_power(marcov_chain_matrix, 10)"
   ]
  },
  {
   "cell_type": "code",
   "execution_count": 192,
   "id": "5bbe689a",
   "metadata": {},
   "outputs": [
    {
     "data": {
      "text/plain": [
       "array([0.375 , 0.1875, 0.25  , 0.1875])"
      ]
     },
     "execution_count": 192,
     "metadata": {},
     "output_type": "execute_result"
    }
   ],
   "source": [
    "# this shows us if we start in cairo(because of initial_dist)\n",
    "# and take 2 steps (because of power = 2) how much is the chance\n",
    "# of ending in each city\n",
    "initial_dist = np.asarray([0,0,1,0])\n",
    "\n",
    "mc_p2 = matrix_power(marcov_chain_matrix,2)\n",
    "\n",
    "np.dot(initial_dist,mc_p2)"
   ]
  }
 ],
 "metadata": {
  "kernelspec": {
   "display_name": "Python 3 (ipykernel)",
   "language": "python",
   "name": "python3"
  },
  "language_info": {
   "codemirror_mode": {
    "name": "ipython",
    "version": 3
   },
   "file_extension": ".py",
   "mimetype": "text/x-python",
   "name": "python",
   "nbconvert_exporter": "python",
   "pygments_lexer": "ipython3",
   "version": "3.10.5"
  }
 },
 "nbformat": 4,
 "nbformat_minor": 5
}
